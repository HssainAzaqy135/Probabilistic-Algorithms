{
  "nbformat": 4,
  "nbformat_minor": 0,
  "metadata": {
    "colab": {
      "provenance": []
    },
    "kernelspec": {
      "name": "python3",
      "display_name": "Python 3"
    },
    "language_info": {
      "name": "python"
    }
  },
  "cells": [
    {
      "cell_type": "code",
      "execution_count": null,
      "metadata": {
        "id": "DDRpZoWv2oml"
      },
      "outputs": [],
      "source": [
        "import random\n",
        "import numpy as np\n",
        "import matplotlib.pyplot as plt"
      ]
    },
    {
      "cell_type": "markdown",
      "source": [
        "## Probability simulation\n"
      ],
      "metadata": {
        "id": "hI4neqagM9F4"
      }
    },
    {
      "cell_type": "code",
      "source": [
        "def pay_func_1(x):\n",
        "  return 2**x\n",
        "def pay_func_2(x):\n",
        "  return x**2\n",
        "def pay_func_3(x):\n",
        "  return x**5"
      ],
      "metadata": {
        "id": "AQMTY21ROUqA"
      },
      "execution_count": null,
      "outputs": []
    },
    {
      "cell_type": "code",
      "source": [
        "def play_game(pay_func, success_rate=0.5, rounds_num=100, max_steps=100, step_cost=10):\n",
        "    total_earnings = 0\n",
        "    for round in range(rounds_num):\n",
        "        successful_steps = 0\n",
        "        for step in range(max_steps):\n",
        "            if np.random.rand() < success_rate:\n",
        "                successful_steps += 1\n",
        "            else:\n",
        "                total_earnings += pay_func(successful_steps) - success_rate * step_cost\n",
        "                break\n",
        "    return total_earnings\n"
      ],
      "metadata": {
        "id": "uTnw4zsFNFtH"
      },
      "execution_count": null,
      "outputs": []
    },
    {
      "cell_type": "markdown",
      "source": [
        "# Basic test for correctness"
      ],
      "metadata": {
        "id": "Dkz1G7-dwUeq"
      }
    },
    {
      "cell_type": "code",
      "source": [
        "# trying to find the balance point for func_1\n",
        "\n",
        "def find_balance_point(num_of_sims = 1000\n",
        "                      ,num_of_rounds = 100\n",
        "                      ,steps_max = 100\n",
        "                      ,step_cost = 10\n",
        "                      ,pay_func = pay_func_1\n",
        "                      ,granularity = 0.02\n",
        "                      ,play_game_func = play_game):\n",
        "  # params\n",
        "  closest_rate_to_zero = 0.0\n",
        "  closest_earning_to_zero = 0\n",
        "  sims_earnings = np.array([np.zeros(num_of_sims) for i in range(int(1/granularity))])\n",
        "  average_earnings = np.zeros(int(1/granularity))\n",
        "\n",
        "  for i  in range(1,int(1/granularity)):\n",
        "    current_rate = granularity * (i)\n",
        "    for j in range(num_of_sims):\n",
        "      sims_earnings[i][j] = play_game_func(pay_func=pay_func,success_rate=current_rate,rounds_num= num_of_rounds,max_steps= steps_max,step_cost=step_cost)\n",
        "\n",
        "    total_earnings = np.sum(sims_earnings[i])\n",
        "    average_earnings[i] = total_earnings / num_of_sims\n",
        "  # taking min\n",
        "  for i in range(1,int(1/granularity)):\n",
        "      if(np.abs(average_earnings[i]) < np.abs(closest_earning_to_zero)) or (i == 1):\n",
        "        closest_earning_to_zero = average_earnings[i]\n",
        "        closest_rate_to_zero = granularity * (i) #current rate\n",
        "\n",
        "  return (closest_rate_to_zero,closest_earning_to_zero)\n",
        "\n",
        "\n",
        "# basic check\n",
        "out_put = find_balance_point(num_of_sims = 1000\n",
        "                      ,num_of_rounds = 100\n",
        "                      ,steps_max = 100\n",
        "                      ,step_cost = 10\n",
        "                      ,pay_func = pay_func_1\n",
        "                      ,granularity = 0.02\n",
        "                      ,play_game_func = play_game)\n",
        "print(out_put)"
      ],
      "metadata": {
        "id": "NN9P2YeaNPOC",
        "colab": {
          "base_uri": "https://localhost:8080/"
        },
        "outputId": "29eab1c2-2e29-4da6-ddc3-a3e7164234a3"
      },
      "execution_count": null,
      "outputs": [
        {
          "output_type": "stream",
          "name": "stdout",
          "text": [
            "(0.12, -4.260000000000001)\n"
          ]
        }
      ]
    },
    {
      "cell_type": "markdown",
      "source": [
        "# Test benchmark speed {For functions variations of \"Play_Game\"}"
      ],
      "metadata": {
        "id": "3YaRntLrl7Oe"
      }
    },
    {
      "cell_type": "code",
      "source": [
        "import numpy as np\n",
        "import time\n",
        "\n",
        "# Timing original version\n",
        "print(\"play_game benchmark:\")\n",
        "start_time = time.time()\n",
        "find_balance_point(num_of_sims = 500\n",
        "                      ,num_of_rounds = 100\n",
        "                      ,steps_max = 100\n",
        "                      ,step_cost = 10\n",
        "                      ,pay_func = pay_func_1\n",
        "                      ,granularity = 0.02\n",
        "                      ,play_game_func = play_game)\n",
        "end_time = time.time()\n",
        "execution_time_original = end_time - start_time\n",
        "\n",
        "print(\"Execution time of original code:\", execution_time_original)\n"
      ],
      "metadata": {
        "colab": {
          "base_uri": "https://localhost:8080/"
        },
        "id": "1kV1npp7mBWh",
        "outputId": "7c22b44b-bd16-4ee3-add4-9eedfa738acd"
      },
      "execution_count": null,
      "outputs": [
        {
          "output_type": "stream",
          "name": "stdout",
          "text": [
            "play_game benchmark:\n",
            "Execution time of original code: 5.8914549350738525\n"
          ]
        }
      ]
    },
    {
      "cell_type": "markdown",
      "source": [
        "#Remarks:\n",
        "- my original code performs better for not so high success rates than the numpy \"optimized\" version where I would pre generate the random values then check for succes rate .\n",
        "Since for higher success rates it is more common to reach the max steps, therefore pre randomizing them in the optimized code proves to be more effiecient and stable than the general case.\n",
        "- In the general case , for not so high success rates, my original code breaks the inner loop of each round rather early on average."
      ],
      "metadata": {
        "id": "ScEqmNspvBUa"
      }
    },
    {
      "cell_type": "markdown",
      "source": [
        "#Balance point per step_cost plotting"
      ],
      "metadata": {
        "id": "iKA4YX_s8w3o"
      }
    },
    {
      "cell_type": "code",
      "source": [
        "step_cost_min = 5\n",
        "step_cost_max = 105\n",
        "sample_size = 26\n",
        "possible_costs = np.linspace(step_cost_min, step_cost_max, num=sample_size)\n",
        "balance_points = np.zeros(sample_size)\n",
        "# Estimate balance points\n",
        "for i in range(sample_size):\n",
        "  output = find_balance_point(num_of_sims = 200\n",
        "                      ,num_of_rounds = 200\n",
        "                      ,steps_max = 1000\n",
        "                      ,step_cost = possible_costs[i]\n",
        "                      ,pay_func = pay_func_1\n",
        "                      ,granularity = 0.05\n",
        "                      ,play_game_func = play_game)\n",
        "  balance_points[i] = output[0]\n",
        "\n",
        "\n",
        "# data\n",
        "x = possible_costs\n",
        "y = balance_points\n",
        "\n",
        "# Plot\n",
        "plt.plot(x, y, color='blue',label = \"curve\", linestyle='-')\n",
        "plt.title('balance point per step_cost')  # Set title\n",
        "plt.xlabel('step cost')  # Set x-axis label\n",
        "plt.ylabel('estimated balance point')  # Set y-axis label\n",
        "plt.grid(True)  # Show grid\n",
        "plt.legend()  # Show legend\n",
        "plt.show()  # Display the plot"
      ],
      "metadata": {
        "colab": {
          "base_uri": "https://localhost:8080/",
          "height": 472
        },
        "id": "iICu08_087jK",
        "outputId": "1cfa6f3c-d57b-4e5a-ef5a-e347e8817c23"
      },
      "execution_count": null,
      "outputs": [
        {
          "output_type": "display_data",
          "data": {
            "text/plain": [
              "<Figure size 640x480 with 1 Axes>"
            ],
            "image/png": "[encoded data removed]"
          },
          "metadata": {}
        }
      ]
    },
    {
      "cell_type": "code",
      "source": [],
      "metadata": {
        "id": "wPYw3B0cArnw"
      },
      "execution_count": null,
      "outputs": []
    }
  ]
}